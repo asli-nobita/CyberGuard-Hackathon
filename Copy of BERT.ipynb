{
 "cells": [
  {
   "cell_type": "code",
   "execution_count": 2,
   "id": "4f5c9f92-a809-476e-8435-e22f11faacbf",
   "metadata": {
    "id": "4f5c9f92-a809-476e-8435-e22f11faacbf"
   },
   "outputs": [
    {
     "name": "stderr",
     "output_type": "stream",
     "text": [
      "2024-11-07 22:31:27.258337: I tensorflow/core/util/port.cc:153] oneDNN custom operations are on. You may see slightly different numerical results due to floating-point round-off errors from different computation orders. To turn them off, set the environment variable `TF_ENABLE_ONEDNN_OPTS=0`.\n",
      "2024-11-07 22:31:27.407363: E external/local_xla/xla/stream_executor/cuda/cuda_fft.cc:477] Unable to register cuFFT factory: Attempting to register factory for plugin cuFFT when one has already been registered\n",
      "WARNING: All log messages before absl::InitializeLog() is called are written to STDERR\n",
      "E0000 00:00:1730998887.461373    6649 cuda_dnn.cc:8310] Unable to register cuDNN factory: Attempting to register factory for plugin cuDNN when one has already been registered\n",
      "E0000 00:00:1730998887.476905    6649 cuda_blas.cc:1418] Unable to register cuBLAS factory: Attempting to register factory for plugin cuBLAS when one has already been registered\n",
      "2024-11-07 22:31:27.609221: I tensorflow/core/platform/cpu_feature_guard.cc:210] This TensorFlow binary is optimized to use available CPU instructions in performance-critical operations.\n",
      "To enable the following instructions: AVX2 AVX_VNNI FMA, in other operations, rebuild TensorFlow with the appropriate compiler flags.\n"
     ]
    }
   ],
   "source": [
    "import numpy as np\n",
    "import pandas as pd\n",
    "from transformers import DistilBertTokenizer, DistilBertForSequenceClassification, Trainer, TrainingArguments\n",
    "from sklearn.model_selection import train_test_split\n",
    "import torch\n",
    "from torch.utils.data import Dataset"
   ]
  },
  {
   "cell_type": "code",
   "execution_count": 3,
   "id": "QpoYMordT5Qy",
   "metadata": {
    "id": "QpoYMordT5Qy"
   },
   "outputs": [],
   "source": [
    "train = pd.read_csv('./train(1).csv')\n",
    "test = pd.read_csv('./test(1).csv')"
   ]
  },
  {
   "cell_type": "code",
   "execution_count": 4,
   "id": "IDj2RxiVuFxV",
   "metadata": {
    "id": "IDj2RxiVuFxV"
   },
   "outputs": [],
   "source": [
    "df = pd.concat([train,test])\n",
    "df = df.dropna()"
   ]
  },
  {
   "cell_type": "code",
   "execution_count": 5,
   "id": "ca0e7487-1903-4bca-a8c0-30e7bc88fd45",
   "metadata": {},
   "outputs": [],
   "source": [
    "categories = set(df['category']) \n",
    "subcategories = set(df['sub_category'])"
   ]
  },
  {
   "cell_type": "code",
   "execution_count": 6,
   "id": "a436c72d-a3ca-4b46-981d-dd0048d7d110",
   "metadata": {},
   "outputs": [
    {
     "data": {
      "text/plain": [
       "(12, 38)"
      ]
     },
     "execution_count": 6,
     "metadata": {},
     "output_type": "execute_result"
    }
   ],
   "source": [
    "len(categories), len(subcategories)"
   ]
  },
  {
   "cell_type": "code",
   "execution_count": 7,
   "id": "48fc00b3-16da-4293-a6e1-e86d64b9092e",
   "metadata": {
    "colab": {
     "base_uri": "https://localhost:8080/"
    },
    "executionInfo": {
     "elapsed": 3480,
     "status": "ok",
     "timestamp": 1730914104038,
     "user": {
      "displayName": "Tanish Jain",
      "userId": "04114703261937099600"
     },
     "user_tz": -330
    },
    "id": "48fc00b3-16da-4293-a6e1-e86d64b9092e",
    "outputId": "cb136d98-0ead-4e54-b56f-ac720dae936b"
   },
   "outputs": [
    {
     "name": "stderr",
     "output_type": "stream",
     "text": [
      "/home/hamza/miniconda3/envs/condaenv/lib/python3.11/site-packages/transformers/tokenization_utils_base.py:1601: FutureWarning: `clean_up_tokenization_spaces` was not set. It will be set to `True` by default. This behavior will be depracted in transformers v4.45, and will be then set to `False` by default. For more details check this issue: https://github.com/huggingface/transformers/issues/31884\n",
      "  warnings.warn(\n"
     ]
    }
   ],
   "source": [
    "tokenizer = DistilBertTokenizer.from_pretrained('distilbert-base-multilingual-cased')"
   ]
  },
  {
   "cell_type": "code",
   "execution_count": 8,
   "id": "4f9835e4-63bc-43cf-baf1-fc3f92f1128c",
   "metadata": {
    "id": "4f9835e4-63bc-43cf-baf1-fc3f92f1128c"
   },
   "outputs": [],
   "source": [
    "from sklearn.preprocessing import LabelEncoder\n",
    "\n",
    "category_encoder = LabelEncoder()\n",
    "df['category_encoded'] = category_encoder.fit_transform(df['category'])\n",
    "\n",
    "subcategory_encoder = LabelEncoder()\n",
    "df['subcategory_encoded'] = subcategory_encoder.fit_transform(df['sub_category'])"
   ]
  },
  {
   "cell_type": "code",
   "execution_count": 9,
   "id": "904395ac-26e8-46af-9e81-8225f852d7ff",
   "metadata": {},
   "outputs": [
    {
     "data": {
      "text/plain": [
       "{'Any Other Cyber Crime': ['Other'],\n",
       " 'Crime Against Women & Children': ['Cyber Blackmailing & Threatening',\n",
       "  'Sexual Harassment',\n",
       "  'Computer Generated CSAM/CSEM'],\n",
       " 'Cryptocurrency Crime': ['Cryptocurrency Fraud'],\n",
       " 'Cyber Attack/ Dependent Crimes': ['Malware Attack',\n",
       "  'Ransomware Attack',\n",
       "  'Denial of Service (DoS)/Distributed Denial of Service (DDOS) attacks',\n",
       "  'SQL Injection',\n",
       "  'Data Breach/Theft',\n",
       "  'Tampering with computer source documents',\n",
       "  'Hacking/Defacement'],\n",
       " 'Cyber Terrorism': ['Cyber Terrorism'],\n",
       " 'Hacking  Damage to computercomputer system etc': ['Unauthorised AccessData Breach',\n",
       "  'Email Hacking',\n",
       "  'Website DefacementHacking',\n",
       "  'Damage to computer computer systems etc',\n",
       "  'Tampering with computer source documents'],\n",
       " 'Online Cyber Trafficking': ['Online Trafficking'],\n",
       " 'Online Financial Fraud': ['Internet Banking Related Fraud',\n",
       "  'DematDepository Fraud',\n",
       "  'EWallet Related Fraud',\n",
       "  'Business Email CompromiseEmail Takeover',\n",
       "  'UPI Related Frauds',\n",
       "  'Fraud CallVishing',\n",
       "  'DebitCredit Card FraudSim Swap Fraud'],\n",
       " 'Online Gambling  Betting': ['Online Gambling  Betting'],\n",
       " 'Online and Social Media Related Crime': ['Cyber Bullying  Stalking  Sexting',\n",
       "  'Online Job Fraud',\n",
       "  'Impersonating Email',\n",
       "  'Intimidating Email',\n",
       "  'EMail Phishing',\n",
       "  'Provocative Speech for unlawful acts',\n",
       "  'Profile Hacking Identity Theft',\n",
       "  'Cheating by Impersonation',\n",
       "  'FakeImpersonating Profile',\n",
       "  'Online Matrimonial Fraud'],\n",
       " 'Ransomware': ['Ransomware'],\n",
       " 'Report Unlawful Content': ['Against Interest of sovereignty or integrity of India']}"
      ]
     },
     "execution_count": 9,
     "metadata": {},
     "output_type": "execute_result"
    }
   ],
   "source": [
    "category_dict = df.groupby('category')['sub_category'].apply(lambda x: list(set(x))).to_dict() \n",
    "category_dict"
   ]
  },
  {
   "cell_type": "code",
   "execution_count": 10,
   "id": "57d1c981-74d2-456b-81a6-bee9554ff3d1",
   "metadata": {},
   "outputs": [
    {
     "data": {
      "text/plain": [
       "{'Other': 'Any Other Cyber Crime',\n",
       " 'Cyber Blackmailing & Threatening': 'Crime Against Women & Children',\n",
       " 'Sexual Harassment': 'Crime Against Women & Children',\n",
       " 'Computer Generated CSAM/CSEM': 'Crime Against Women & Children',\n",
       " 'Cryptocurrency Fraud': 'Cryptocurrency Crime',\n",
       " 'Malware Attack': 'Cyber Attack/ Dependent Crimes',\n",
       " 'Ransomware Attack': 'Cyber Attack/ Dependent Crimes',\n",
       " 'Denial of Service (DoS)/Distributed Denial of Service (DDOS) attacks': 'Cyber Attack/ Dependent Crimes',\n",
       " 'SQL Injection': 'Cyber Attack/ Dependent Crimes',\n",
       " 'Data Breach/Theft': 'Cyber Attack/ Dependent Crimes',\n",
       " 'Tampering with computer source documents': 'Hacking  Damage to computercomputer system etc',\n",
       " 'Hacking/Defacement': 'Cyber Attack/ Dependent Crimes',\n",
       " 'Cyber Terrorism': 'Cyber Terrorism',\n",
       " 'Unauthorised AccessData Breach': 'Hacking  Damage to computercomputer system etc',\n",
       " 'Email Hacking': 'Hacking  Damage to computercomputer system etc',\n",
       " 'Website DefacementHacking': 'Hacking  Damage to computercomputer system etc',\n",
       " 'Damage to computer computer systems etc': 'Hacking  Damage to computercomputer system etc',\n",
       " 'Online Trafficking': 'Online Cyber Trafficking',\n",
       " 'Internet Banking Related Fraud': 'Online Financial Fraud',\n",
       " 'DematDepository Fraud': 'Online Financial Fraud',\n",
       " 'EWallet Related Fraud': 'Online Financial Fraud',\n",
       " 'Business Email CompromiseEmail Takeover': 'Online Financial Fraud',\n",
       " 'UPI Related Frauds': 'Online Financial Fraud',\n",
       " 'Fraud CallVishing': 'Online Financial Fraud',\n",
       " 'DebitCredit Card FraudSim Swap Fraud': 'Online Financial Fraud',\n",
       " 'Online Gambling  Betting': 'Online Gambling  Betting',\n",
       " 'Cyber Bullying  Stalking  Sexting': 'Online and Social Media Related Crime',\n",
       " 'Online Job Fraud': 'Online and Social Media Related Crime',\n",
       " 'Impersonating Email': 'Online and Social Media Related Crime',\n",
       " 'Intimidating Email': 'Online and Social Media Related Crime',\n",
       " 'EMail Phishing': 'Online and Social Media Related Crime',\n",
       " 'Provocative Speech for unlawful acts': 'Online and Social Media Related Crime',\n",
       " 'Profile Hacking Identity Theft': 'Online and Social Media Related Crime',\n",
       " 'Cheating by Impersonation': 'Online and Social Media Related Crime',\n",
       " 'FakeImpersonating Profile': 'Online and Social Media Related Crime',\n",
       " 'Online Matrimonial Fraud': 'Online and Social Media Related Crime',\n",
       " 'Ransomware': 'Ransomware',\n",
       " 'Against Interest of sovereignty or integrity of India': 'Report Unlawful Content'}"
      ]
     },
     "execution_count": 10,
     "metadata": {},
     "output_type": "execute_result"
    }
   ],
   "source": [
    "subcategory_to_category = {sub: cat for cat, subs in category_dict.items() for sub in subs} \n",
    "subcategory_to_category"
   ]
  },
  {
   "cell_type": "code",
   "execution_count": 11,
   "id": "84hoWh8qu-Rn",
   "metadata": {
    "colab": {
     "base_uri": "https://localhost:8080/",
     "height": 226
    },
    "executionInfo": {
     "elapsed": 17,
     "status": "ok",
     "timestamp": 1730914104806,
     "user": {
      "displayName": "Tanish Jain",
      "userId": "04114703261937099600"
     },
     "user_tz": -330
    },
    "id": "84hoWh8qu-Rn",
    "outputId": "a075c25c-a709-469f-d029-fdb9c371d0ba"
   },
   "outputs": [
    {
     "data": {
      "text/html": [
       "<div>\n",
       "<style scoped>\n",
       "    .dataframe tbody tr th:only-of-type {\n",
       "        vertical-align: middle;\n",
       "    }\n",
       "\n",
       "    .dataframe tbody tr th {\n",
       "        vertical-align: top;\n",
       "    }\n",
       "\n",
       "    .dataframe thead th {\n",
       "        text-align: right;\n",
       "    }\n",
       "</style>\n",
       "<table border=\"1\" class=\"dataframe\">\n",
       "  <thead>\n",
       "    <tr style=\"text-align: right;\">\n",
       "      <th></th>\n",
       "      <th>category</th>\n",
       "      <th>sub_category</th>\n",
       "      <th>crimeaditionalinfo</th>\n",
       "      <th>category_encoded</th>\n",
       "      <th>subcategory_encoded</th>\n",
       "    </tr>\n",
       "  </thead>\n",
       "  <tbody>\n",
       "    <tr>\n",
       "      <th>0</th>\n",
       "      <td>Online and Social Media Related Crime</td>\n",
       "      <td>Cyber Bullying  Stalking  Sexting</td>\n",
       "      <td>I had continue received random calls and abusi...</td>\n",
       "      <td>9</td>\n",
       "      <td>6</td>\n",
       "    </tr>\n",
       "    <tr>\n",
       "      <th>1</th>\n",
       "      <td>Online Financial Fraud</td>\n",
       "      <td>Fraud CallVishing</td>\n",
       "      <td>The above fraudster is continuously messaging ...</td>\n",
       "      <td>7</td>\n",
       "      <td>17</td>\n",
       "    </tr>\n",
       "    <tr>\n",
       "      <th>2</th>\n",
       "      <td>Online Gambling  Betting</td>\n",
       "      <td>Online Gambling  Betting</td>\n",
       "      <td>He is acting like a police and demanding for m...</td>\n",
       "      <td>8</td>\n",
       "      <td>23</td>\n",
       "    </tr>\n",
       "    <tr>\n",
       "      <th>3</th>\n",
       "      <td>Online and Social Media Related Crime</td>\n",
       "      <td>Online Job Fraud</td>\n",
       "      <td>In apna Job I have applied for job interview f...</td>\n",
       "      <td>9</td>\n",
       "      <td>24</td>\n",
       "    </tr>\n",
       "    <tr>\n",
       "      <th>4</th>\n",
       "      <td>Online Financial Fraud</td>\n",
       "      <td>Fraud CallVishing</td>\n",
       "      <td>I received a call from lady stating that she w...</td>\n",
       "      <td>7</td>\n",
       "      <td>17</td>\n",
       "    </tr>\n",
       "  </tbody>\n",
       "</table>\n",
       "</div>"
      ],
      "text/plain": [
       "                                category                       sub_category  \\\n",
       "0  Online and Social Media Related Crime  Cyber Bullying  Stalking  Sexting   \n",
       "1                 Online Financial Fraud                  Fraud CallVishing   \n",
       "2               Online Gambling  Betting           Online Gambling  Betting   \n",
       "3  Online and Social Media Related Crime                   Online Job Fraud   \n",
       "4                 Online Financial Fraud                  Fraud CallVishing   \n",
       "\n",
       "                                  crimeaditionalinfo  category_encoded  \\\n",
       "0  I had continue received random calls and abusi...                 9   \n",
       "1  The above fraudster is continuously messaging ...                 7   \n",
       "2  He is acting like a police and demanding for m...                 8   \n",
       "3  In apna Job I have applied for job interview f...                 9   \n",
       "4  I received a call from lady stating that she w...                 7   \n",
       "\n",
       "   subcategory_encoded  \n",
       "0                    6  \n",
       "1                   17  \n",
       "2                   23  \n",
       "3                   24  \n",
       "4                   17  "
      ]
     },
     "execution_count": 11,
     "metadata": {},
     "output_type": "execute_result"
    }
   ],
   "source": [
    "df.head()\n"
   ]
  },
  {
   "cell_type": "code",
   "execution_count": 12,
   "id": "f5ea197e-f3a9-4ecc-a82a-4a6253ca6502",
   "metadata": {
    "id": "f5ea197e-f3a9-4ecc-a82a-4a6253ca6502"
   },
   "outputs": [],
   "source": [
    "train_size = 0.75 # train:test ratio of 3:1\n",
    "split_index = int(train_size*len(df))\n",
    "train, test = df[:split_index], df[split_index:]"
   ]
  },
  {
   "cell_type": "code",
   "execution_count": 13,
   "id": "c6c02a7e-960f-471f-8299-3d48296a800c",
   "metadata": {
    "colab": {
     "base_uri": "https://localhost:8080/",
     "height": 226
    },
    "executionInfo": {
     "elapsed": 568,
     "status": "ok",
     "timestamp": 1730914105361,
     "user": {
      "displayName": "Tanish Jain",
      "userId": "04114703261937099600"
     },
     "user_tz": -330
    },
    "id": "c6c02a7e-960f-471f-8299-3d48296a800c",
    "outputId": "8af759e1-c5e2-47f9-f88d-dfb8c6d28c3d"
   },
   "outputs": [
    {
     "data": {
      "text/html": [
       "<div>\n",
       "<style scoped>\n",
       "    .dataframe tbody tr th:only-of-type {\n",
       "        vertical-align: middle;\n",
       "    }\n",
       "\n",
       "    .dataframe tbody tr th {\n",
       "        vertical-align: top;\n",
       "    }\n",
       "\n",
       "    .dataframe thead th {\n",
       "        text-align: right;\n",
       "    }\n",
       "</style>\n",
       "<table border=\"1\" class=\"dataframe\">\n",
       "  <thead>\n",
       "    <tr style=\"text-align: right;\">\n",
       "      <th></th>\n",
       "      <th>category</th>\n",
       "      <th>sub_category</th>\n",
       "      <th>crimeaditionalinfo</th>\n",
       "      <th>category_encoded</th>\n",
       "      <th>subcategory_encoded</th>\n",
       "    </tr>\n",
       "  </thead>\n",
       "  <tbody>\n",
       "    <tr>\n",
       "      <th>0</th>\n",
       "      <td>Online and Social Media Related Crime</td>\n",
       "      <td>Cyber Bullying  Stalking  Sexting</td>\n",
       "      <td>I had continue received random calls and abusi...</td>\n",
       "      <td>9</td>\n",
       "      <td>6</td>\n",
       "    </tr>\n",
       "    <tr>\n",
       "      <th>1</th>\n",
       "      <td>Online Financial Fraud</td>\n",
       "      <td>Fraud CallVishing</td>\n",
       "      <td>The above fraudster is continuously messaging ...</td>\n",
       "      <td>7</td>\n",
       "      <td>17</td>\n",
       "    </tr>\n",
       "    <tr>\n",
       "      <th>2</th>\n",
       "      <td>Online Gambling  Betting</td>\n",
       "      <td>Online Gambling  Betting</td>\n",
       "      <td>He is acting like a police and demanding for m...</td>\n",
       "      <td>8</td>\n",
       "      <td>23</td>\n",
       "    </tr>\n",
       "    <tr>\n",
       "      <th>3</th>\n",
       "      <td>Online and Social Media Related Crime</td>\n",
       "      <td>Online Job Fraud</td>\n",
       "      <td>In apna Job I have applied for job interview f...</td>\n",
       "      <td>9</td>\n",
       "      <td>24</td>\n",
       "    </tr>\n",
       "    <tr>\n",
       "      <th>4</th>\n",
       "      <td>Online Financial Fraud</td>\n",
       "      <td>Fraud CallVishing</td>\n",
       "      <td>I received a call from lady stating that she w...</td>\n",
       "      <td>7</td>\n",
       "      <td>17</td>\n",
       "    </tr>\n",
       "  </tbody>\n",
       "</table>\n",
       "</div>"
      ],
      "text/plain": [
       "                                category                       sub_category  \\\n",
       "0  Online and Social Media Related Crime  Cyber Bullying  Stalking  Sexting   \n",
       "1                 Online Financial Fraud                  Fraud CallVishing   \n",
       "2               Online Gambling  Betting           Online Gambling  Betting   \n",
       "3  Online and Social Media Related Crime                   Online Job Fraud   \n",
       "4                 Online Financial Fraud                  Fraud CallVishing   \n",
       "\n",
       "                                  crimeaditionalinfo  category_encoded  \\\n",
       "0  I had continue received random calls and abusi...                 9   \n",
       "1  The above fraudster is continuously messaging ...                 7   \n",
       "2  He is acting like a police and demanding for m...                 8   \n",
       "3  In apna Job I have applied for job interview f...                 9   \n",
       "4  I received a call from lady stating that she w...                 7   \n",
       "\n",
       "   subcategory_encoded  \n",
       "0                    6  \n",
       "1                   17  \n",
       "2                   23  \n",
       "3                   24  \n",
       "4                   17  "
      ]
     },
     "execution_count": 13,
     "metadata": {},
     "output_type": "execute_result"
    }
   ],
   "source": [
    "train.head()"
   ]
  },
  {
   "cell_type": "code",
   "execution_count": 14,
   "id": "fd2b6046-95dc-4c1c-91b0-78353faecc42",
   "metadata": {
    "id": "fd2b6046-95dc-4c1c-91b0-78353faecc42"
   },
   "outputs": [],
   "source": [
    "x_train, x_test = train['crimeaditionalinfo'].values, test['crimeaditionalinfo'].values\n",
    "y_train, y_test = train['subcategory_encoded'].values, test['subcategory_encoded'].values"
   ]
  },
  {
   "cell_type": "code",
   "execution_count": 15,
   "id": "NzVSDsZJwYLM",
   "metadata": {
    "id": "NzVSDsZJwYLM"
   },
   "outputs": [],
   "source": [
    "train_encoded = tokenizer(list(x_train), padding=True, truncation=True, max_length=512)\n",
    "test_encoded = tokenizer(list(x_test), padding=True, truncation=True, max_length=512)"
   ]
  },
  {
   "cell_type": "code",
   "execution_count": 16,
   "id": "8123a2f0-e2ba-445e-a2c0-84ab8d706e89",
   "metadata": {
    "id": "8123a2f0-e2ba-445e-a2c0-84ab8d706e89"
   },
   "outputs": [],
   "source": [
    "import torch\n",
    "from torch.utils.data import Dataset\n",
    "\n",
    "# Define a custom dataset class to handle tokenized data and labels\n",
    "class ComplaintDataset(Dataset):\n",
    "    def __init__(self, encodings, labels):\n",
    "        self.encodings = encodings\n",
    "        self.labels = labels\n",
    "\n",
    "    def __getitem__(self, idx):\n",
    "        # Retrieve encoded input and convert to tensors\n",
    "        item = {key: torch.tensor(val[idx]) for key, val in self.encodings.items()}\n",
    "        item['labels'] = torch.tensor(self.labels[idx])  # Convert labels to tensors\n",
    "        return item\n",
    "\n",
    "    def __len__(self):\n",
    "        return len(self.labels)\n",
    "\n",
    "# Convert your labels into torch tensors\n",
    "train_labels = torch.tensor(y_train)\n",
    "test_labels = torch.tensor(y_test)\n",
    "\n",
    "# Create the dataset\n",
    "train_dataset = ComplaintDataset(train_encoded, train_labels)\n",
    "test_dataset = ComplaintDataset(test_encoded, test_labels)\n"
   ]
  },
  {
   "cell_type": "code",
   "execution_count": 17,
   "id": "802a2a94-e3c2-456a-af55-cad68a53ce75",
   "metadata": {
    "id": "802a2a94-e3c2-456a-af55-cad68a53ce75"
   },
   "outputs": [
    {
     "name": "stderr",
     "output_type": "stream",
     "text": [
      "Some weights of DistilBertForSequenceClassification were not initialized from the model checkpoint at distilbert-base-multilingual-cased and are newly initialized: ['classifier.bias', 'classifier.weight', 'pre_classifier.bias', 'pre_classifier.weight']\n",
      "You should probably TRAIN this model on a down-stream task to be able to use it for predictions and inference.\n"
     ]
    }
   ],
   "source": [
    "# Load pre-trained mBERT model for sequence classification\n",
    "model = DistilBertForSequenceClassification.from_pretrained(\"distilbert-base-multilingual-cased\", num_labels=len(subcategories))\n",
    "model.config.num_parameters = 135333131\n",
    "\n",
    "# Define training arguments\n",
    "training_args = TrainingArguments(\n",
    "    output_dir='./results',\n",
    "    eval_strategy=\"epoch\",\n",
    "    learning_rate=2e-5,\n",
    "    per_device_train_batch_size=32,  # Set a smaller batch size\n",
    "    per_device_eval_batch_size=64,   # Evaluation batch size\n",
    "    num_train_epochs=3,\n",
    "    weight_decay=0.01,\n",
    "    logging_dir='./logs',\n",
    "    logging_steps=200,\n",
    "    gradient_accumulation_steps=8,   # Accumulate gradients over 8 steps\n",
    "    use_cpu=False\n",
    ")"
   ]
  },
  {
   "cell_type": "code",
   "execution_count": 18,
   "id": "76o9R8F90U7c",
   "metadata": {
    "id": "76o9R8F90U7c"
   },
   "outputs": [],
   "source": [
    "import os\n",
    "os.environ[\"WANDB_MODE\"] = \"disabled\""
   ]
  },
  {
   "cell_type": "code",
   "execution_count": null,
   "id": "71d33656-f0e1-44b9-90c5-59446fd378b7",
   "metadata": {
    "id": "71d33656-f0e1-44b9-90c5-59446fd378b7"
   },
   "outputs": [
    {
     "name": "stderr",
     "output_type": "stream",
     "text": [
      "/tmp/ipykernel_6649/3379088383.py:13: UserWarning: To copy construct from a tensor, it is recommended to use sourceTensor.clone().detach() or sourceTensor.clone().detach().requires_grad_(True), rather than torch.tensor(sourceTensor).\n",
      "  item['labels'] = torch.tensor(self.labels[idx])  # Convert labels to tensors\n"
     ]
    },
    {
     "data": {
      "text/html": [
       "\n",
       "    <div>\n",
       "      \n",
       "      <progress value='2' max='1020' style='width:300px; height:20px; vertical-align: middle;'></progress>\n",
       "      [   2/1020 : < :, Epoch 0.00/3]\n",
       "    </div>\n",
       "    <table border=\"1\" class=\"dataframe\">\n",
       "  <thead>\n",
       " <tr style=\"text-align: left;\">\n",
       "      <th>Epoch</th>\n",
       "      <th>Training Loss</th>\n",
       "      <th>Validation Loss</th>\n",
       "    </tr>\n",
       "  </thead>\n",
       "  <tbody>\n",
       "  </tbody>\n",
       "</table><p>"
      ],
      "text/plain": [
       "<IPython.core.display.HTML object>"
      ]
     },
     "metadata": {},
     "output_type": "display_data"
    }
   ],
   "source": [
    "# Initialize the Trainer\n",
    "trainer = Trainer(\n",
    "    model=model,                         # The model to be trained\n",
    "    args=training_args,                  # Training arguments\n",
    "    train_dataset=train_dataset,         # Training dataset\n",
    "    eval_dataset=test_dataset,           # Evaluation dataset\n",
    ")\n",
    "\n",
    "# Fine-tune the model\n",
    "trainer.train()"
   ]
  },
  {
   "cell_type": "code",
   "execution_count": null,
   "id": "qKgCYFsy-hTQ",
   "metadata": {
    "id": "qKgCYFsy-hTQ"
   },
   "outputs": [],
   "source": [
    "torch.save(model.state_dict(),'model.pth')"
   ]
  },
  {
   "cell_type": "code",
   "execution_count": null,
   "id": "530cc0f2-cf6e-4043-a006-cc25f57271aa",
   "metadata": {
    "id": "530cc0f2-cf6e-4043-a006-cc25f57271aa"
   },
   "outputs": [],
   "source": [
    "from sklearn.metrics import accuracy_score, precision_score, recall_score\n",
    "import numpy as np\n",
    "\n",
    "# Make predictions on the test dataset\n",
    "predicted_labels = np.argmax(trainer.predict(test_dataset))  # Get the predicted subcategory labels\n",
    "\n",
    "# Evaluate metrics for subcategory level\n",
    "subcategory_accuracy = accuracy_score(y_test, predicted_labels)\n",
    "subcategory_precision = precision_score(y_test, predicted_labels, average=\"weighted\")\n",
    "subcategory_recall = recall_score(y_test, predicted_labels, average=\"weighted\")\n",
    "\n",
    "print(f\"Subcategory Level - Accuracy: {subcategory_accuracy:.4f}, Precision: {subcategory_precision:.4f}, Recall: {subcategory_recall:.4f}\")\n",
    "\n",
    "# Map the true and predicted subcategories to their parent categories\n",
    "true_categories = [subcategory_to_category[subcat] for subcat in y_test]\n",
    "predicted_categories = [subcategory_to_category[subcat] for subcat in predicted_labels]\n",
    "\n",
    "# Encode the true and predicted categories as integers for calculating metrics\n",
    "unique_categories = list(set(true_categories + predicted_categories))\n",
    "category_to_index = {cat: idx for idx, cat in enumerate(unique_categories)}\n",
    "\n",
    "true_category_indices = [category_to_index[cat] for cat in true_categories]\n",
    "predicted_category_indices = [category_to_index[cat] for cat in predicted_categories]\n",
    "\n",
    "# Evaluate metrics for category level\n",
    "category_accuracy = accuracy_score(true_category_indices, predicted_category_indices)\n",
    "category_precision = precision_score(true_category_indices, predicted_category_indices, average=\"weighted\")\n",
    "category_recall = recall_score(true_category_indices, predicted_category_indices, average=\"weighted\")\n",
    "\n",
    "print(f\"Category Level - Accuracy: {category_accuracy:.4f}, Precision: {category_precision:.4f}, Recall: {category_recall:.4f}\")\n"
   ]
  },
  {
   "cell_type": "code",
   "execution_count": null,
   "id": "2631c009-f909-4a2c-90d3-67b5fd7b7e41",
   "metadata": {},
   "outputs": [],
   "source": []
  }
 ],
 "metadata": {
  "colab": {
   "provenance": [
    {
     "file_id": "1U5ZWfebhWI1BzgTuseei3bQurRdeNf9R",
     "timestamp": 1730914132427
    }
   ]
  },
  "kernelspec": {
   "display_name": "Python 3 (ipykernel)",
   "language": "python",
   "name": "python3"
  },
  "language_info": {
   "codemirror_mode": {
    "name": "ipython",
    "version": 3
   },
   "file_extension": ".py",
   "mimetype": "text/x-python",
   "name": "python",
   "nbconvert_exporter": "python",
   "pygments_lexer": "ipython3",
   "version": "3.11.9"
  }
 },
 "nbformat": 4,
 "nbformat_minor": 5
}
